{
 "cells": [
  {
   "cell_type": "code",
   "execution_count": null,
   "metadata": {
    "collapsed": true
   },
   "outputs": [],
   "source": [
    "# -*- coding: utf-8 -*-\n",
    "\n",
    "import random\n",
    "import re\n",
    "import pandas as pd\n",
    "import time\n",
    "from bs4 import BeautifulSoup\n",
    "import pymysql\n",
    "import datetime\n",
    "import requests\n",
    "import pandas as pd\n",
    "from pandas import Series, DataFrame \n",
    "from time import sleep \n",
    "mobile_list = []\n",
    "url_list = []\n",
    "mobile_url = 'https://www.mobile01.com/topiclist.php?f=372&cols=Title,Content,MOBILESKILL_ALL_DESC'\n",
    "mobiles = []"
   ]
  },
  {
   "cell_type": "code",
   "execution_count": null,
   "metadata": {
    "collapsed": true
   },
   "outputs": [],
   "source": [
    "from bs4 import BeautifulSoup\n",
    "import requests\n",
    "URL = \"https://www.mobile01.com/topiclist.php?f=372&p={}\"\n",
    "def make_request(url):\n",
    "    soup = BeautifulSoup(requests.get(url).text.encoding(), 'lxml')\n",
    "    return soup"
   ]
  },
  {
   "cell_type": "code",
   "execution_count": null,
   "metadata": {
    "collapsed": true
   },
   "outputs": [],
   "source": [
    "resp = requests.get(\"https://www.mobile01.com/topiclist.php?f=372\")"
   ]
  },
  {
   "cell_type": "code",
   "execution_count": null,
   "metadata": {
    "collapsed": true
   },
   "outputs": [],
   "source": [
    "resp.encoding = (\"utf8mb4\")\n",
    "resp.text"
   ]
  },
  {
   "cell_type": "code",
   "execution_count": null,
   "metadata": {
    "collapsed": true
   },
   "outputs": [],
   "source": [
    "make_request(\"https://www.mobile01.com/topiclist.php?f=372&p={}\")"
   ]
  },
  {
   "cell_type": "code",
   "execution_count": null,
   "metadata": {
    "collapsed": true
   },
   "outputs": [],
   "source": [
    "HOST = \"https://www.mobile01.com\"\n",
    "DATA_PATH = 'Mobile01'\n",
    "URL_TEMPLATE = \"https://www.mobile01.com/topiclist.php?f=372&p={}\""
   ]
  },
  {
   "cell_type": "code",
   "execution_count": null,
   "metadata": {
    "collapsed": true
   },
   "outputs": [],
   "source": [
    "URL_TEMPLATE = \"https://www.mobile01.com/topiclist.php?f=372&p={}\"\n",
    "for i in range(1, 123):\n",
    "    print(URL_TEMPLATE.format(i))"
   ]
  },
  {
   "cell_type": "code",
   "execution_count": null,
   "metadata": {
    "collapsed": true
   },
   "outputs": [],
   "source": [
    "  def get_list_page(url):\n",
    "    HOST = \"https://www.mobile01.com\"\n",
    "    resp = requests.get(url)\n",
    "    links = re.findall('<a href=\"(topicdetail.php\\?f=372&t=\\d+)\">', resp.text)\n",
    "    detail_page_links = [\"%s/%s\"%(HOST, link) for link in links]\n",
    "    return detail_page_links"
   ]
  },
  {
   "cell_type": "code",
   "execution_count": null,
   "metadata": {
    "collapsed": true
   },
   "outputs": [],
   "source": [
    "URL_TEMPLATE = \"https://www.mobile01.com/topiclist.php?f=372&p={}\"\n",
    "links = []\n",
    "\n",
    "for pg in range(1,123):\n",
    "    url = URL_TEMPLATE.format(pg)\n",
    "    urls = get_list_page(url)\n",
    "    for link in urls: \n",
    "        links.append(link)\n",
    "        print(link)\n",
    "        sleep(1.0)"
   ]
  },
  {
   "cell_type": "code",
   "execution_count": null,
   "metadata": {
    "collapsed": true
   },
   "outputs": [],
   "source": [
    " def abc(url):\n",
    "    soup = BeautifulSoup(requests.get(url).text, 'lxml')\n",
    "    page_info = str(soup.find_all(\"div\", {\"class\":\"pagination\"})[1])\n",
    "    find = re.findall('>(\\d)</a> <span>…</span> <', page_info)\n",
    "    page = 0\n",
    "    if len(find) != 0:\n",
    "        page = int(find[0])\n",
    "    return(page)"
   ]
  },
  {
   "cell_type": "code",
   "execution_count": null,
   "metadata": {
    "collapsed": true
   },
   "outputs": [],
   "source": [
    "URL_TEMPLATE = \"https://www.mobile01.com/topiclist.php?f=372&p={}\"\n",
    "links = []\n",
    "MOtext = []\n",
    "MOtitle = []\n",
    "mobile01text = {}\n",
    "dictionary = {}\n",
    "for pg in range(1,123):\n",
    "    url = URL_TEMPLATE.format(pg)\n",
    "    urls = get_list_page(url)\n",
    "    print(pg)\n",
    "    print('頁')\n",
    "    n = 0\n",
    "    for link in urls:\n",
    "        P = abc(link)\n",
    "        if P == 0:\n",
    "            P = P + 1\n",
    "        a = \"\"\n",
    "        for num in range(1,P+1):\n",
    "            sleep(random.randint(1,5))\n",
    "            soup = make_request(link + \"&p=\" + str(num))\n",
    "            title = soup.find_all('h1', class_ = 'topic')[0]\n",
    "            \n",
    "            contents= soup.find_all('div', class_ = 'single-post-content')\n",
    "            for content in contents:\n",
    "                a = a + content.text\n",
    "        print(title.text)\n",
    "        print(a)      \n",
    "        dictionary[title.text] = a\n",
    "        MOtitle.append(title.text)\n",
    "        MOtext.append(a)       "
   ]
  },
  {
   "cell_type": "code",
   "execution_count": null,
   "metadata": {
    "collapsed": true
   },
   "outputs": [],
   "source": [
    "dictionary"
   ]
  },
  {
   "cell_type": "code",
   "execution_count": null,
   "metadata": {
    "collapsed": true
   },
   "outputs": [],
   "source": [
    "dictionary.keys()"
   ]
  },
  {
   "cell_type": "code",
   "execution_count": null,
   "metadata": {
    "collapsed": true
   },
   "outputs": [],
   "source": [
    "conn = pymysql.connect(host='localhost', port=3306, user='root', password='125688125688',charset='utf8mb4')\n",
    "cur = conn.cursor()"
   ]
  },
  {
   "cell_type": "code",
   "execution_count": null,
   "metadata": {
    "collapsed": true
   },
   "outputs": [],
   "source": [
    "cur.execute(\"CREATE SCHEMA `finally` DEFAULT CHARACTER SET utf8mb4\")"
   ]
  },
  {
   "cell_type": "code",
   "execution_count": null,
   "metadata": {
    "collapsed": true
   },
   "outputs": [],
   "source": [
    "cur.execute('USE finally')\n",
    "conn.commit()"
   ]
  },
  {
   "cell_type": "code",
   "execution_count": null,
   "metadata": {
    "collapsed": true
   },
   "outputs": [],
   "source": [
    "cur.execute(\"\"\"CREATE TABLE done (\n",
    "Title LONGTEXT,\n",
    "Content LONGTEXT\n",
    ")\"\"\")"
   ]
  },
  {
   "cell_type": "code",
   "execution_count": null,
   "metadata": {
    "collapsed": true
   },
   "outputs": [],
   "source": [
    "for row in dictionary:\n",
    "    print(row)\n",
    "    cur.execute(\"\"\"INSERT INTO done (Title,Content) VALUES (%s, %s)\"\"\",(row,dictionary[row]))\n",
    "conn.commit()"
   ]
  },
  {
   "cell_type": "code",
   "execution_count": null,
   "metadata": {
    "collapsed": true
   },
   "outputs": [],
   "source": [
    "def get_list_page(mobilename,number):\n",
    "    for page in range(1,number):\n",
    "        url = mobile_url.format(mobilename)\n",
    "        resp = requests.get(url + '&page=' + str(number))\n",
    "        mobile_data = resp.json()['data']\n",
    "        mobiles.extend(mobile_data)                               \n",
    "        time.sleep(1.5) "
   ]
  },
  {
   "cell_type": "code",
   "execution_count": null,
   "metadata": {
    "collapsed": true
   },
   "outputs": [],
   "source": [
    "def get_total_page():\n",
    "    url = 'https://www.mobile01.com/topiclist.php?f=372'\n",
    "    total = int(re.findall('\"TOTALPAGE\":\"(\\d+)\"',requests.get(url).text)[0])\n",
    "    return total"
   ]
  },
  {
   "cell_type": "code",
   "execution_count": null,
   "metadata": {
    "collapsed": true
   },
   "outputs": [],
   "source": [
    "mobile01text={}"
   ]
  },
  {
   "cell_type": "code",
   "execution_count": null,
   "metadata": {
    "collapsed": true
   },
   "outputs": [],
   "source": [
    "mobile01text['title']=MOtitle\n",
    "mobile01text['content']=MOtext"
   ]
  },
  {
   "cell_type": "code",
   "execution_count": null,
   "metadata": {
    "collapsed": true
   },
   "outputs": [],
   "source": [
    "mobile01text"
   ]
  },
  {
   "cell_type": "code",
   "execution_count": null,
   "metadata": {
    "collapsed": true
   },
   "outputs": [],
   "source": [
    "DataFrame(mobile01text)"
   ]
  }
 ],
 "metadata": {
  "kernelspec": {
   "display_name": "Python 3",
   "language": "python",
   "name": "python3"
  },
  "language_info": {
   "codemirror_mode": {
    "name": "ipython",
    "version": 3
   },
   "file_extension": ".py",
   "mimetype": "text/x-python",
   "name": "python",
   "nbconvert_exporter": "python",
   "pygments_lexer": "ipython3",
   "version": "3.6.3"
  }
 },
 "nbformat": 4,
 "nbformat_minor": 2
}
